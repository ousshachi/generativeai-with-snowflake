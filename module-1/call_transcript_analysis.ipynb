{
 "metadata": {
  "kernelspec": {
   "display_name": "Streamlit Notebook",
   "name": "streamlit"
  }
 },
 "nbformat_minor": 5,
 "nbformat": 4,
 "cells": [
  {
   "cell_type": "code",
   "id": "3775908f-ca36-4846-8f38-5adca39217f2",
   "metadata": {
    "language": "python",
    "name": "cell1",
    "collapsed": false,
    "resultHeight": 0
   },
   "source": "# Import python packages\nimport streamlit as st\nimport pandas as pd\n\n# We can also use Snowpark for our analyses!\nfrom snowflake.snowpark.context import get_active_session\nsession = get_active_session()",
   "execution_count": null,
   "outputs": []
  },
  {
   "cell_type": "code",
   "id": "8d50cbf4-0c8d-4950-86cb-114990437ac9",
   "metadata": {
    "language": "sql",
    "name": "cell2",
    "collapsed": false,
    "resultHeight": 112
   },
   "source": "USE ROLE ACCOUNTADMIN;\n\nCREATE WAREHOUSE IF NOT EXISTS ski_gear_s WAREHOUSE_SIZE=SMALL;\nCREATE DATABASE IF NOT EXISTS ski_gear_support_db;\nCREATE SCHEMA IF NOT EXISTS ski_gear_support_schema;\n\nUSE ski_gear_support_db.ski_gear_support_schema;\nUSE WAREHOUSE ski_gear_s;",
   "execution_count": null,
   "outputs": []
  },
  {
   "cell_type": "code",
   "id": "c695373e-ac74-4b62-a1f1-08206cbd5c81",
   "metadata": {
    "language": "sql",
    "name": "cell3",
    "collapsed": false,
    "resultHeight": 112
   },
   "source": "CREATE or REPLACE file format csvformat\n  SKIP_HEADER = 1\n  FIELD_OPTIONALLY_ENCLOSED_BY = '\"'\n  type = 'CSV';\n\nCREATE or REPLACE stage call_transcripts_data_stage\n  file_format = csvformat\n  url = 's3://sfquickstarts/misc/call_transcripts/';\n\nCREATE or REPLACE table CALL_TRANSCRIPTS ( \n  date_created date,\n  language varchar(60),\n  country varchar(60),\n  product varchar(60),\n  category varchar(60),\n  damage_type varchar(90),\n  transcript varchar\n);\n\nCOPY into CALL_TRANSCRIPTS\n  from @call_transcripts_data_stage;",
   "execution_count": null,
   "outputs": []
  },
  {
   "cell_type": "code",
   "id": "24a8cace-5821-4473-a2cf-9f309951926c",
   "metadata": {
    "language": "python",
    "name": "cell_4",
    "collapsed": false,
    "resultHeight": 0
   },
   "outputs": [],
   "source": "transcript = \"\"\"\nCustomer: Hello\n\nAgent: Hi there, I hope you're having a great day! To better assist you, could you please provide your first and last name and the company you are calling from?\n\nCustomer: Sure, my name is Jessica Turner and I'm calling from Mountain Ski Adventures.\n\nAgent: Thanks, Jessica. What can I help you with today?\n\nCustomer: Well, we recently ordered a batch of XtremeX helmets, and upon inspection, we noticed that the buckles on several helmets are broken and won't secure the helmet properly.\n\nAgent: I apologize for the inconvenience this has caused you. To confirm, is your order number 68910?\n\nCustomer: Yes, that's correct.\n\nAgent: Thank you for confirming. I'm going to look into this issue and see what we can do to correct it. Would you prefer a refund or a replacement for the damaged helmets?\n\nCustomer: A replacement would be ideal, as we still need the helmets for our customers.\n\nAgent: I understand. I will start the process to send out replacements for the damaged helmets as soon as possible. Can you please specify the quantity of helmets with broken buckles?\n\nCustomer: There are ten helmets with broken buckles in total.\n\nAgent: Thank you for providing me with the quantity. We will expedite a new shipment of ten XtremeX helmets with functioning buckles to your location. You should expect them to arrive within 3-5 business days.\n\nCustomer: Thank you for your assistance, I appreciate it.\n\n\"\"\"",
   "execution_count": null
  },
  {
   "cell_type": "code",
   "id": "0436c75c-051c-47bd-a578-5aafc9ca8526",
   "metadata": {
    "language": "python",
    "name": "cell_5",
    "collapsed": false,
    "resultHeight": 0
   },
   "outputs": [],
   "source": "from snowflake.cortex import Complete\nprompt = \"\"\"\n    Summarize this transcript in less than 200 words. \nPut the product name, defect and summary in JSON format. \n\"\"\"",
   "execution_count": null
  },
  {
   "cell_type": "code",
   "id": "5b178388-02c4-457b-82d0-e732a792af31",
   "metadata": {
    "language": "python",
    "name": "cell_6",
    "collapsed": false,
    "resultHeight": 945
   },
   "outputs": [],
   "source": "print(Complete('llama3.2-1b', prompt + transcript))",
   "execution_count": null
  },
  {
   "cell_type": "code",
   "id": "741afc26-fdb6-4a1f-a454-e652e01aa0c0",
   "metadata": {
    "language": "python",
    "name": "cell_7",
    "collapsed": false,
    "codeCollapsed": false,
    "resultHeight": 133
   },
   "outputs": [],
   "source": "print(Complete(\"mistral-7b\", prompt + transcript))",
   "execution_count": null
  },
  {
   "cell_type": "code",
   "id": "5cdbf7ef-fb82-4a0b-b8dd-e4a8d2f0cfe0",
   "metadata": {
    "language": "python",
    "name": "cell_8",
    "collapsed": false,
    "resultHeight": 561
   },
   "outputs": [],
   "source": "from snowflake.cortex import Complete\ndef summarize():\n    with st.container():\n        st.header(\"JSON Summary\")\n        entered_text = st.text_area(\"Enter text\",label_visibility=\"hidden\",height=400,placeholder='Enter text. For example, a call transcript.')\n        btn_summarize = st.button(\"Summarize\",type=\"primary\")\n        if entered_text and btn_summarize:\n            entered_text = entered_text.replace(\"'\", \"\\\\'\")\n            prompt = f\"Summarize this transcript in less than 200 words. Put the product name, defect if any, and summary in JSON format: {entered_text}\"\n            cortex_prompt = \"'[INST] \" + prompt + \" [/INST]'\"\n            cortex_response = Complete(\"mistral-7b\", cortex_prompt + transcript)\n            st.json(cortex_response)\n\npage_names_to_funcs = {\n    \"JSON Summary\": summarize\n}\n\nselected_page = st.sidebar.selectbox(\"Select\", page_names_to_funcs.keys())\npage_names_to_funcs[selected_page]()",
   "execution_count": null
  },
  {
   "cell_type": "code",
   "id": "5ce18e02-96e9-4683-b29b-2ff72b56f9b6",
   "metadata": {
    "language": "python",
    "name": "cell_9",
    "collapsed": false,
    "resultHeight": 561
   },
   "outputs": [],
   "source": "def summarize():\n    with st.container():\n        st.header(\"JSON Summary\")\n        entered_text = st.text_area(\"Enter text\",label_visibility=\"hidden\",height=400,placeholder='Enter text. For example, a call transcript.')\n        btn_summarize = st.button(\"Summarize\",type=\"primary\")\n        if entered_text and btn_summarize:\n            entered_text = entered_text.replace(\"'\", \"\\\\'\")\n            prompt = f\"Summarize this transcript in less than 200 words. Put the product name, defect if any, and summary in JSON format: {entered_text}\"\n            cortex_prompt = \"'[INST] \" + prompt + \" [/INST]'\"\n            cortex_response = session.sql(f\"select snowflake.cortex.complete('mistral-7b', {cortex_prompt}) as response\").to_pandas().iloc[0]['RESPONSE']\n            st.json(cortex_response)\n\npage_names_to_funcs = {\n    \"JSON Summary\": summarize\n}\n\nselected_page = st.sidebar.selectbox(\"Select\", page_names_to_funcs.keys())\npage_names_to_funcs[selected_page]()",
   "execution_count": null
  }
 ]
}