{
 "metadata": {
  "kernelspec": {
   "display_name": "Streamlit Notebook",
   "name": "streamlit"
  }
 },
 "nbformat_minor": 5,
 "nbformat": 4,
 "cells": [
  {
   "cell_type": "markdown",
   "id": "c37f4892-bc2f-4250-98a2-d7e20f5edfe0",
   "metadata": {
    "name": "cell9",
    "collapsed": false,
    "resultHeight": 74
   },
   "source": "# Setup"
  },
  {
   "cell_type": "code",
   "id": "3775908f-ca36-4846-8f38-5adca39217f2",
   "metadata": {
    "language": "python",
    "name": "cell1",
    "collapsed": false,
    "resultHeight": 0,
    "codeCollapsed": false
   },
   "source": "import snowflake.snowpark.functions as F\n\n# set up snowpark session\nfrom snowflake.snowpark.context import get_active_session\nsession = get_active_session()",
   "execution_count": null,
   "outputs": []
  },
  {
   "cell_type": "code",
   "id": "9d329b88-ecb3-4e69-976d-6d04959d295a",
   "metadata": {
    "language": "sql",
    "name": "cell40",
    "collapsed": false,
    "resultHeight": 0
   },
   "outputs": [],
   "source": "use database SKI_GEAR_SUPPORT_DB;\nuse schema SKI_GEAR_SUPPORT_SCHEMA;",
   "execution_count": null
  },
  {
   "cell_type": "markdown",
   "id": "456bf475-5bb7-454f-8d89-a942b1763613",
   "metadata": {
    "name": "cell26",
    "collapsed": false,
    "resultHeight": 74
   },
   "source": "# Using Complete"
  },
  {
   "cell_type": "code",
   "id": "bbcb4a42-002a-4385-a619-1c677faca131",
   "metadata": {
    "language": "python",
    "name": "cell27",
    "resultHeight": 261,
    "collapsed": false
   },
   "outputs": [],
   "source": "from snowflake.cortex import Complete\n\nComplete(\"llama3.1-405b\", \"¿Cómo adquieren los copos de nieve su forma única?. Reply in english\")",
   "execution_count": null
  },
  {
   "cell_type": "markdown",
   "id": "144d2ad8-5839-484c-97db-54788f3135cb",
   "metadata": {
    "name": "cell34",
    "collapsed": false,
    "resultHeight": 135
   },
   "source": "# System and User roles in Complete\n## Options: Cortex Guard"
  },
  {
   "cell_type": "code",
   "id": "6fa32811-428b-4696-a0f1-fd3c106d1c9a",
   "metadata": {
    "language": "python",
    "name": "cell29",
    "resultHeight": 239,
    "codeCollapsed": false,
    "collapsed": false
   },
   "outputs": [],
   "source": "messages = [\n    {'role': 'system', 'content': 'You are a helpful assistant that answers programming questions in the style of a rancher from the western United States.' },\n    {'role': 'user', 'content': 'Are semicolons optional in JavaScript?'}\n]\n\noptions = {\n    'guardrails': True,\n}\n\nComplete(\"llama3.1-405b\", messages, options = options)",
   "execution_count": null
  },
  {
   "cell_type": "code",
   "id": "7090ee9d-90cc-4255-82f8-52d27f5b2525",
   "metadata": {
    "language": "python",
    "name": "cell2",
    "collapsed": false,
    "resultHeight": 60
   },
   "outputs": [],
   "source": "messages = [\n    {'role': 'system', 'content': 'You are a helpful assistant that answers programming questions in the style of a rancher from the western United States.' },\n    {'role': 'user', 'content': 'How to rob a bank?'}\n]\n\noptions = {\n    'guardrails': True,\n}\n\nComplete(\"llama3.1-405b\", messages, options = options)",
   "execution_count": null
  },
  {
   "cell_type": "markdown",
   "id": "e8209113-4c20-4394-bb58-045fc19020cb",
   "metadata": {
    "name": "cell35",
    "collapsed": false,
    "resultHeight": 74
   },
   "source": "# Multi-turn chat"
  },
  {
   "cell_type": "code",
   "id": "96d1ff80-9bc1-4819-a77c-3de71ff1ed21",
   "metadata": {
    "language": "python",
    "name": "cell30",
    "resultHeight": 306,
    "codeCollapsed": false,
    "collapsed": false
   },
   "outputs": [],
   "source": "messages_with_history = [\n    {'role': 'system', 'content': 'You are a helpful assistant that answers programming questions in the style of a rancher from the western United States.' },\n    {'role': 'user', 'content': 'Are semicolons optional in JavaScript?'},\n    {'role': 'assistant', 'content': \"Well, howdy there, partner! I reckon you're askin' about semicolons in JavaScript, eh? …, and may your code always be tidy!\"},\n    {'role': 'user', 'content': 'So to be clear, my code will not break with out them?'}\n    ]\n\noptions = {\n    'guardrails': True\n}\n\nfrom snowflake.cortex import Complete\n\nresponse = Complete(\"llama3.1-405b\", messages_with_history, options = options)\n\nresponse\n",
   "execution_count": null
  },
  {
   "cell_type": "markdown",
   "id": "f9c15527-c4e5-4b33-8c6e-ad9b7045b414",
   "metadata": {
    "name": "cell36",
    "collapsed": false,
    "resultHeight": 74
   },
   "source": "# Temperature"
  },
  {
   "cell_type": "code",
   "id": "f710627a-4bc7-4af3-8dfa-fe2b599c7b61",
   "metadata": {
    "language": "python",
    "name": "cell31",
    "resultHeight": 351,
    "codeCollapsed": false,
    "collapsed": false
   },
   "outputs": [],
   "source": "options = {\n    'guardrails': True,\n    'temperature': 0.9\n}\n\nresponse = Complete(\"llama3.1-405b\", messages_with_history, options = options)\n\nresponse\n",
   "execution_count": null
  },
  {
   "cell_type": "markdown",
   "id": "7b5ef04c-b137-4433-ac4c-42538081ecf1",
   "metadata": {
    "name": "cell37",
    "collapsed": false,
    "resultHeight": 74
   },
   "source": "# Top P"
  },
  {
   "cell_type": "code",
   "id": "bbfdb7ff-33c7-4801-9c75-2d9b0a46b2ea",
   "metadata": {
    "language": "python",
    "name": "cell32",
    "resultHeight": 194,
    "codeCollapsed": false,
    "collapsed": false
   },
   "outputs": [],
   "source": "options = {\n    'guardrails': True,\n    'top_p': 0.9\n}\n\nresponse = Complete(\"llama3.1-405b\", messages_with_history, options = options)\n\nresponse",
   "execution_count": null
  },
  {
   "cell_type": "markdown",
   "id": "835fcb50-321c-4e70-9255-4473d7ef092a",
   "metadata": {
    "name": "cell38",
    "collapsed": false,
    "resultHeight": 74
   },
   "source": "# Max Tokens"
  },
  {
   "cell_type": "code",
   "id": "98c7729c-776c-42e9-bf56-ba32a05aea78",
   "metadata": {
    "language": "python",
    "name": "cell39",
    "resultHeight": 54,
    "collapsed": false
   },
   "outputs": [],
   "source": "messages = [\n    {'role': 'system', 'content': 'You are a helpful assistant that decides if a call transcript needs follow-up. You only respond by saying YES or NO.' },\n    {'role': 'user', 'content': \"Call Transcript: Your billing department is a disaster! I've been overcharged three times this month. Please refund me\"}\n]\n\noptions = {\"max_tokens\": 1}\n\nresponse = Complete(\"llama3.2-1b\", messages, options = options)\n\nresponse",
   "execution_count": null
  },
  {
   "cell_type": "markdown",
   "id": "3f2e3429-eb44-4042-b7cf-4b26183fd628",
   "metadata": {
    "name": "cell3",
    "collapsed": false,
    "resultHeight": 74
   },
   "source": "# Review Output of Complete()"
  },
  {
   "cell_type": "code",
   "id": "d128374c-135c-42b9-9d09-023b141c6c24",
   "metadata": {
    "language": "sql",
    "name": "cell33",
    "resultHeight": 427,
    "codeCollapsed": false,
    "collapsed": false
   },
   "outputs": [],
   "source": "SELECT SNOWFLAKE.CORTEX.COMPLETE(\n    'llama2-70b-chat',\n    [\n        {\n            'role': 'system',\n            'content': 'You are a helpful assistant that decides if a call transcript needs follow-up. You only respond by saying YES or NO.'\n        },\n        {\n            'role': 'user',\n            'content': transcript\n        }\n    ],\n    {'max_tokens': 1}\n) AS followup_needed\nFROM CALL_TRANSCRIPTS\nLIMIT 10;\n",
   "execution_count": null
  },
  {
   "cell_type": "markdown",
   "id": "ace7d2a4-1ed2-4ceb-99d5-ad3dae0109fa",
   "metadata": {
    "name": "cell4",
    "collapsed": false,
    "resultHeight": 112
   },
   "source": "# Task-Specific Functions: Translate, Sentiment, Summarize and Classify text"
  },
  {
   "cell_type": "markdown",
   "id": "f04ebbe9-e661-4366-b299-f24f53a0e0fc",
   "metadata": {
    "name": "cell7",
    "collapsed": false,
    "resultHeight": 74
   },
   "source": "# Translate"
  },
  {
   "cell_type": "code",
   "id": "d873aaae-2908-4105-ab9a-15b78d88cd4c",
   "metadata": {
    "language": "python",
    "name": "cell6",
    "collapsed": false,
    "codeCollapsed": false,
    "resultHeight": 439
   },
   "outputs": [],
   "source": "# Calling UnicodeTranslateError\nfrom snowflake.cortex import Translate\n\narticle_df = session.table(\"CALL_TRANSCRIPTS\")\narticle_df = article_df.filter(F.col('language')=='German')\narticle_df = article_df.withColumn(\n    \"DE_TRANSCRIPT\",\n    Translate(F.col('EN_TRANSCRIPT'), \"en\", \"de\")\n)\narticle_df",
   "execution_count": null
  },
  {
   "cell_type": "code",
   "id": "22ff26cb-4fa7-4b28-bd2f-0ac797c582f5",
   "metadata": {
    "language": "sql",
    "name": "cell5",
    "collapsed": false,
    "resultHeight": 427
   },
   "outputs": [],
   "source": "SELECT TRANSCRIPT, \nSNOWFLAKE.CORTEX.TRANSLATE(TRANSCRIPT, '', 'en') AS ENGLISH_TRANSCRIPTS\nFROM CALL_TRANSCRIPTS \nLIMIT 10;",
   "execution_count": null
  },
  {
   "cell_type": "markdown",
   "id": "5a1b0a0c-7244-4e85-a013-74285627ff9f",
   "metadata": {
    "name": "cell8",
    "collapsed": false,
    "resultHeight": 74
   },
   "source": "# Sentiment"
  },
  {
   "cell_type": "code",
   "id": "1dc2c29b-4376-422b-939d-bbcd712ae82b",
   "metadata": {
    "language": "python",
    "name": "cell11",
    "collapsed": false,
    "resultHeight": 439
   },
   "outputs": [],
   "source": "# Using Sentiment\nfrom snowflake.cortex import Sentiment\nfrom snowflake.snowpark.functions import col\n\narticle_df = session.table(\"CALL_TRANSCRIPTS\")\narticle_df = article_df.withColumn(\"sentiment_score_en\", Sentiment(col(\"EN_TRANSCRIPT\")))\n\narticle_df.collect()",
   "execution_count": null
  },
  {
   "cell_type": "code",
   "id": "97c6a7b0-dcb8-4d88-8f55-1e20e0218dda",
   "metadata": {
    "language": "sql",
    "name": "cell10",
    "collapsed": false,
    "resultHeight": 427
   },
   "outputs": [],
   "source": "SELECT\nSNOWFLAKE.CORTEX.SENTIMENT(EN_TRANSCRIPT), EN_TRANSCRIPT\nFROM CALL_TRANSCRIPTS \nLIMIT 10;",
   "execution_count": null
  },
  {
   "cell_type": "markdown",
   "id": "0c279bf4-4ffe-4d8a-8a22-fcbc4b82ca64",
   "metadata": {
    "name": "cell13",
    "collapsed": false,
    "resultHeight": 74
   },
   "source": "# Summarize"
  },
  {
   "cell_type": "code",
   "id": "9dd35f88-83cc-4ad9-bda0-f42a2d893de1",
   "metadata": {
    "language": "python",
    "name": "cell15",
    "collapsed": false,
    "resultHeight": 60
   },
   "outputs": [],
   "source": "from snowflake.cortex import Summarize\n\ntext = \"\"\"\n    The Snowflake company was co-founded by Thierry Cruanes, Marcin Zukowski,\n    and Benoit Dageville in 2012 and is headquartered in Bozeman, Montana.\n\"\"\"\n\nSummarize(text)",
   "execution_count": null
  },
  {
   "cell_type": "code",
   "id": "777e8916-852f-4bb3-b0c3-746ca5a7f84d",
   "metadata": {
    "language": "sql",
    "name": "cell14",
    "collapsed": false,
    "resultHeight": 427
   },
   "outputs": [],
   "source": "CREATE OR REPLACE TABLE call_transcripts\nAS \nSELECT *, SNOWFLAKE.CORTEX.SUMMARIZE(EN_TRANSCRIPT) as EN_CALL_SUMMARY\nFROM CALL_TRANSCRIPTS;\n\nSELECT * FROM call_transcripts LIMIT 10;",
   "execution_count": null
  },
  {
   "cell_type": "markdown",
   "id": "818d3b83-dd6b-43a6-b870-9c947a96be57",
   "metadata": {
    "name": "cell12",
    "collapsed": false,
    "resultHeight": 74
   },
   "source": "# Classify text"
  },
  {
   "cell_type": "code",
   "id": "79493dad-79f2-4a17-86c9-312412a34efb",
   "metadata": {
    "language": "python",
    "name": "cell16",
    "collapsed": false,
    "resultHeight": 99
   },
   "outputs": [],
   "source": "from snowflake.cortex import ClassifyText\n\nClassifyText(\"What is the best restaurant in my city?\", [\"how to\", \"recommendations\"])",
   "execution_count": null
  },
  {
   "cell_type": "code",
   "id": "124ad326-5d9c-4c7a-a9f9-56a4fd066fdf",
   "metadata": {
    "language": "sql",
    "name": "cell17",
    "collapsed": false,
    "resultHeight": 439
   },
   "outputs": [],
   "source": "SELECT EN_CALL_SUMMARY,\nSNOWFLAKE.CORTEX.CLASSIFY_TEXT(TRANSCRIPT, ['missing price tags','washed out color', 'Broken zipper']) AS damage_type_label\nFROM call_transcripts\nLimit 20;",
   "execution_count": null
  },
  {
   "cell_type": "markdown",
   "id": "a0ac3158-c3aa-4796-a97a-39848b12ff35",
   "metadata": {
    "name": "cell18",
    "collapsed": false,
    "resultHeight": 74
   },
   "source": "# Using Helper Functions"
  },
  {
   "cell_type": "markdown",
   "id": "66e68570-42b5-4f4b-8a9d-449bdb8e1d95",
   "metadata": {
    "name": "cell22",
    "collapsed": false,
    "resultHeight": 74
   },
   "source": "# COUNT_TOKEN"
  },
  {
   "cell_type": "code",
   "id": "05167b47-5162-4fd0-bdbd-b16a264709f6",
   "metadata": {
    "language": "sql",
    "name": "cell23",
    "collapsed": false,
    "resultHeight": 112
   },
   "outputs": [],
   "source": "SELECT SNOWFLAKE.CORTEX.COUNT_TOKENS( 'llama3.1-70b', \n    'To be Jedi is to face the truth, and choose. Give off light, or darkness, Padawan. Be a candle, or the night.') \n    AS number_of_tokens;",
   "execution_count": null
  },
  {
   "cell_type": "code",
   "id": "00394cb0-e1bb-49da-9390-9434b5848c37",
   "metadata": {
    "language": "sql",
    "name": "cell24",
    "collapsed": false,
    "resultHeight": 112
   },
   "outputs": [],
   "source": "SELECT SNOWFLAKE.CORTEX.COUNT_TOKENS( 'mistral-7b', \n    'To be Jedi is to face the truth, and choose. Give off light, or darkness, Padawan. Be a candle, or the night.') \n    AS number_of_tokens;",
   "execution_count": null
  },
  {
   "cell_type": "markdown",
   "id": "57d39288-05f8-40f5-9bc3-5154c0eda072",
   "metadata": {
    "name": "cell19",
    "collapsed": false,
    "resultHeight": 74
   },
   "source": "# TRY_COMPLETE"
  },
  {
   "cell_type": "code",
   "id": "19aeb0ac-356a-4e4b-b9da-8da9c3bb512a",
   "metadata": {
    "language": "sql",
    "name": "cell20",
    "collapsed": false,
    "resultHeight": 135
   },
   "outputs": [],
   "source": "SELECT SNOWFLAKE.CORTEX.COMPLETE(\n    'llama2-70b-chaty',\n    [\n        {\n            'role': 'user',\n            'content': 'how does a snowflake get its unique pattern?'\n        }\n    ],\n    {\n        'temperature': 0.7,\n        'max_tokens': 10\n    }\n);",
   "execution_count": null
  },
  {
   "cell_type": "code",
   "id": "f279961c-dad4-47d2-98cd-c7772b2fef34",
   "metadata": {
    "language": "sql",
    "name": "cell21",
    "collapsed": false,
    "resultHeight": 112
   },
   "outputs": [],
   "source": "SELECT SNOWFLAKE.CORTEX.TRY_COMPLETE(\n    'llama2-70b-chaty',\n    [\n        {\n            'role': 'user',\n            'content': 'how does a snowflake get its unique pattern?'\n        }\n    ],\n    {\n        'temperature': 0.7,\n        'max_tokens': 10\n    }\n);",
   "execution_count": null
  }
 ]
}