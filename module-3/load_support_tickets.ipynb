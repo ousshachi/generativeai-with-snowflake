{
 "metadata": {
  "kernelspec": {
   "display_name": "Streamlit Notebook",
   "name": "streamlit"
  }
 },
 "nbformat_minor": 5,
 "nbformat": 4,
 "cells": [
  {
   "cell_type": "code",
   "id": "3775908f-ca36-4846-8f38-5adca39217f2",
   "metadata": {
    "language": "python",
    "name": "cell1",
    "collapsed": false,
    "resultHeight": 0
   },
   "source": "from snowflake.snowpark.context import get_active_session\nsession = get_active_session()",
   "execution_count": null,
   "outputs": []
  },
  {
   "cell_type": "code",
   "id": "39629c8d-0f3b-4c98-a126-8c9a9c6d3b3b",
   "metadata": {
    "language": "sql",
    "name": "cell4",
    "collapsed": false,
    "resultHeight": 112
   },
   "outputs": [],
   "source": "use database TELCO_SUPPORT_DB;\nuse schema SUPPORT_DATA;",
   "execution_count": null
  },
  {
   "cell_type": "code",
   "id": "8d50cbf4-0c8d-4950-86cb-114990437ac9",
   "metadata": {
    "language": "sql",
    "name": "cell2",
    "collapsed": false,
    "resultHeight": 112
   },
   "source": "CREATE or REPLACE file format csvformat\n  SKIP_HEADER = 1\n  FIELD_OPTIONALLY_ENCLOSED_BY = '\"'\n  type = 'CSV';\n\nCREATE or REPLACE stage support_tickets_data_stage\n  file_format = csvformat\n  url = 's3://sfquickstarts/finetuning_llm_using_snowflake_cortex_ai/';\n\nCREATE or REPLACE TABLE SUPPORT_TICKETS (\n  ticket_id VARCHAR(60),\n  customer_name VARCHAR(60),\n  customer_email VARCHAR(60),\n  service_type VARCHAR(60),\n  request VARCHAR,\n  contact_preference VARCHAR(60)\n)\nCOMMENT = '{\"origin\":\"sf_sit-is\", \"name\":\"aiml_notebooks_fine_tuning\", \"version\":{\"major\":1, \"minor\":0}, \"attributes\":{\"is_quickstart\":1, \"source\":\"sql\"}}';\n\nCOPY into SUPPORT_TICKETS\n  from @support_tickets_data_stage;",
   "execution_count": null,
   "outputs": []
  }
 ]
}