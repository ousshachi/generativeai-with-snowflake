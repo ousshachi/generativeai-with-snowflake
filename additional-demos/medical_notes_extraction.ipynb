{
 "metadata": {
  "kernelspec": {
   "display_name": "Streamlit Notebook",
   "name": "streamlit"
  }
 },
 "nbformat_minor": 5,
 "nbformat": 4,
 "cells": [
  {
   "cell_type": "code",
   "id": "3775908f-ca36-4846-8f38-5adca39217f2",
   "metadata": {
    "language": "python",
    "name": "cell1",
    "resultHeight": 0,
    "collapsed": false
   },
   "source": "import json\n\nfrom snowflake.snowpark.context import get_active_session\nsession = get_active_session()",
   "execution_count": null,
   "outputs": []
  },
  {
   "cell_type": "code",
   "id": "3dfc1bf8-4dc9-40fd-a04e-aabb381ec224",
   "metadata": {
    "language": "python",
    "name": "cell5",
    "resultHeight": 0,
    "codeCollapsed": false,
    "collapsed": false
   },
   "outputs": [],
   "source": "medical_notes = \"\"\"\nPatient Name: John Doe\nDate of Visit: November 19, 2024\nDOB: January 15, 1980\n\nChief Complaint:\nFollow-up for proteinuria.\n\nHistory of Present Illness:\n44-year-old male with proteinuria (1.2 g/day) confirmed three months ago. He denies hematuria or dysuria. On Losartan potassium 50 mg daily for 6 weeks with partial improvement. Blood pressure remains mildly elevated.\n\nObjective Data:\nVitals:\n\nBP: 142/88 mmHg\nHR: 78 bpm\n\nLabs:\nUrine protein\nratio: 1.1 (improved from 1.5)\nSerum creatinine: 1.1 mg/dL (stable)\nPotassium: 4.8 mmol/L\nAssessment:\nProteinuria: Likely hypertensive nephropathy, improving with Losartan.\nHypertension: Partially controlled.\nPlan:\nContinue Losartan Potassium 50 mg daily; consider dose increase if needed.\nInitiate Comparator: Placebo (Losartan) for monitoring as part of trial.\nEvaluate response to Amlodipine Besylate, Placebo (Amlodipine), and potential Enalapril Maleate if ARB response is insufficient.\nRecheck labs in 6 weeks, including proteinuria and kidney function.\nProvider's Name: Dr. Amanda Clarke\n\"\"\"",
   "execution_count": null
  },
  {
   "cell_type": "code",
   "id": "0ab1a000-22d9-4dc9-8da4-e33987c2c508",
   "metadata": {
    "language": "python",
    "name": "cell4",
    "codeCollapsed": false,
    "resultHeight": 0,
    "collapsed": false
   },
   "outputs": [],
   "source": "medical_request = [\n    {'role': 'system', 'content': \"Your goal is to extract structured information from the user's input that matches the form described below. When extracting information please make sure it matches the type information exactly, and only provide the extracted information. \\n Conditions: <complete conditions> \\n Interventions: {complete interventions}\" },\n    {'role': 'user', 'content': medical_notes}\n]",
   "execution_count": null
  },
  {
   "cell_type": "code",
   "id": "d30b04ec-586d-488f-9274-1f81d69e7730",
   "metadata": {
    "language": "python",
    "name": "cell2",
    "resultHeight": 323,
    "codeCollapsed": false,
    "collapsed": false
   },
   "outputs": [],
   "source": "from snowflake.cortex import Complete\n\nresponse = Complete(\"llama3.1-405b\", medical_request)\n\nresponse\n\n#json.loads(response)[\"choices\"][0][\"messages\"]",
   "execution_count": null
  },
  {
   "cell_type": "code",
   "id": "0c399912-ef7e-491d-95f6-170e010a85f1",
   "metadata": {
    "language": "python",
    "name": "cell3",
    "codeCollapsed": false,
    "resultHeight": 54,
    "collapsed": false
   },
   "outputs": [],
   "source": "from snowflake.cortex import Complete\n\nresponse = Complete(\"llama3.2-1b\", medical_request)\n\nresponse\n\n#json.loads(response)[\"choices\"][0][\"messages\"]",
   "execution_count": null
  },
  {
   "cell_type": "code",
   "id": "c082e39b-b819-4962-b223-646b9069e67c",
   "metadata": {
    "language": "python",
    "name": "cell6",
    "codeCollapsed": false,
    "resultHeight": 1084,
    "collapsed": false
   },
   "outputs": [],
   "source": "from snowflake.cortex import Complete\n\nresponse = Complete(\"llama3.2-3b\", medical_request)\n\nresponse\n\n#json.loads(response)[\"choices\"][0][\"messages\"]",
   "execution_count": null
  }
 ]
}